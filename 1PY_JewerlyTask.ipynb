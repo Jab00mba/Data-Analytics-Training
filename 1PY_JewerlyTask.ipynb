{
  "nbformat": 4,
  "nbformat_minor": 0,
  "metadata": {
    "colab": {
      "provenance": [],
      "toc_visible": true
    },
    "kernelspec": {
      "name": "python3",
      "display_name": "Python 3"
    },
    "language_info": {
      "name": "python"
    }
  },
  "cells": [
    {
      "cell_type": "markdown",
      "source": [
        "Расчет наценки на ювелирные изделия\n",
        "\n",
        "\n",
        "**Следуйте указаниям ниже для анализа данных на листе **\"Задание 2\"**:**\n",
        "  \n",
        "\n",
        "1.   **Период анализа:** с 1.04.23 по 10.04.23\n",
        "2.   **Критерии участия:** В анализ должны участвовать только продажи изделий с общей суммой и себестоимостью больше 0 рублей.\n",
        "3.   **Задача:** Необходимо получить два значения наценки:\n",
        "  *   Средняя наценка на ювелирные изделия из золота.\n",
        "  *   Средняя наценка на ювелирные изделия из серебра.\n",
        "4.   Изделия необходимо сгруппировать по металлу на основе поля **\"Товарная группа\"**. Товарная группа изделий из серебра начинается на \"СИ\", все остальные изделия - это золото.\n"
      ],
      "metadata": {
        "id": "qKV9X_id0uqt"
      }
    },
    {
      "cell_type": "code",
      "source": [
        "import pandas as pd\n",
        "\n",
        "data = pd.read_excel('test.xlsx', sheet_name='Задание 2', parse_dates=['ДатаПродажи'])\n",
        "data['ДатаПродажи'] = pd.to_datetime(data['ДатаПродажи'], format='%d.%m.%Y %H:%M')\n",
        "data_sorted = data.sort_values('ДатаПродажи')\n",
        "data = data_sorted\n",
        "\n",
        "# Установка диапазона дат\n",
        "start_date = '2023-04-01'\n",
        "end_date = '2023-04-10 23:59'\n",
        "\n",
        "# Фильтрация данных по дате и значениям общей суммы и себестоимости\n",
        "filtered_data = data[(data['ДатаПродажи'] >= start_date) & (data['ДатаПродажи'] <= end_date) &\n",
        "                     (data['ОбщаяСумма'] > 0) & (data['Себестоимость'] > 0)].copy()\n",
        "\n",
        "# Распределение на группы золото/серебро\n",
        "filtered_data['Металл'] = filtered_data['ТоварнаяГруппа'].apply(lambda x: 'Серебро' if x.startswith('СИ') else 'Золото')\n",
        "\n",
        "# Расчет наценки для каждой записи\n",
        "filtered_data['Абсолютная наценка'] = filtered_data['ОбщаяСумма'] - filtered_data['Себестоимость']\n",
        "filtered_data['Процентная наценка'] = ((filtered_data['ОбщаяСумма'] - filtered_data['Себестоимость']) / filtered_data['Себестоимость']) * 100\n",
        "\n",
        "# Расчет средней наценки для золота и серебра отдельно\n",
        "average_absolute_markup = filtered_data.groupby('Металл')['Абсолютная наценка'].mean()\n",
        "average_percentage_markup = filtered_data.groupby('Металл')['Процентная наценка'].mean()\n",
        "\n",
        "print(\"Средняя абсолютная наценка по металлам:\")\n",
        "print(average_absolute_markup)\n",
        "print(\"\\nСредняя процентная наценка по металлам:\")\n",
        "print(average_percentage_markup)\n"
      ],
      "metadata": {
        "colab": {
          "base_uri": "https://localhost:8080/"
        },
        "id": "txrY9IDQxiK4",
        "outputId": "d59614fa-7517-4084-bad9-70e4f82fa7db"
      },
      "execution_count": 34,
      "outputs": [
        {
          "output_type": "stream",
          "name": "stdout",
          "text": [
            "Средняя абсолютная наценка по металлам:\n",
            "Металл\n",
            "Золото     8682.81274\n",
            "Серебро    1304.23829\n",
            "Name: Абсолютная наценка, dtype: float64\n",
            "\n",
            "Средняя процентная наценка по металлам:\n",
            "Металл\n",
            "Золото     159.071354\n",
            "Серебро    218.473626\n",
            "Name: Процентная наценка, dtype: float64\n"
          ]
        }
      ]
    }
  ]
}