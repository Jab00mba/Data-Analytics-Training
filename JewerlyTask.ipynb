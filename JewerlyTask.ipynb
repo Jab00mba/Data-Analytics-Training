{
  "nbformat": 4,
  "nbformat_minor": 0,
  "metadata": {
    "colab": {
      "provenance": [],
      "toc_visible": true
    },
    "kernelspec": {
      "name": "python3",
      "display_name": "Python 3"
    },
    "language_info": {
      "name": "python"
    }
  },
  "cells": [
    {
      "cell_type": "code",
      "source": [
        "import pandas as pd\n",
        "data = pd.read_excel('test.xlsx', sheet_name='Задание 2', parse_dates=['ДатаПродажи'])\n",
        "\n",
        "data['ДатаПродажи'] = pd.to_datetime(data['ДатаПродажи'], format='%d.%m.%Y %H:%M')\n",
        "data.head\n",
        "\n",
        "# Сортировка данных по дате\n",
        "data_sorted = data.sort_values('ДатаПродажи')\n",
        "\n",
        "data = data_sorted\n",
        "# Установка диапазона дат\n",
        "start_date = '2023-04-01'\n",
        "end_date = '2023-04-10 23:59'\n",
        "\n",
        "# Фильтрация данных по дате и значениям общей суммы и себестоимости\n",
        "filtered_data = data[(data['ДатаПродажи'] >= start_date) & (data['ДатаПродажи'] <= end_date) & (data['ОбщаяСумма'] > 0) & (data['Себестоимость'] > 0)].copy()\n",
        "\n",
        "\n",
        "# # Распределение на группы золото/серебро\n",
        "# Использование .loc[] для добавления нового столбца 'Металл'\n",
        "filtered_data.loc[:, 'ТоварнаяГруппа'] = filtered_data['ТоварнаяГруппа'].apply(lambda x: 'Серебро' if x.startswith('СИ') else 'Золото')\n",
        "\n",
        "filtered_data.head()\n",
        "\n",
        "\n",
        "\n",
        "# Расчет наценки для каждой записи\n",
        "filtered_data['Абсолютная наценка'] = filtered_data['ОбщаяСумма'] - filtered_data['Себестоимость']\n",
        "average_absolute_markup = filtered_data['Абсолютная наценка'].mean()\n",
        "\n",
        "# Расчет средней наценки для золота и серебра\n",
        "filtered_data['Процентная наценка'] = ((filtered_data['ОбщаяСумма'] - filtered_data['Себестоимость']) / filtered_data['Себестоимость']) * 100\n",
        "average_percentage_markup = filtered_data['Процентная наценка'].mean()\n",
        "\n",
        "print(average_absolute_markup)\n",
        "print(average_percentage_markup)\n"
      ],
      "metadata": {
        "id": "DzyL_R_OOHBl",
        "colab": {
          "base_uri": "https://localhost:8080/"
        },
        "outputId": "3fe45709-11a0-43b6-9879-8e55fcc7c7ab"
      },
      "execution_count": 27,
      "outputs": [
        {
          "output_type": "stream",
          "name": "stdout",
          "text": [
            "5461.0157633610615\n",
            "185.008892388234\n"
          ]
        }
      ]
    }
  ]
}