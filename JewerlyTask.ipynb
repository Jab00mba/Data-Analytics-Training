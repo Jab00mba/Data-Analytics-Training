import pandas as pd
data = pd.read_excel('test.xlsx', sheet_name='Задание 2', parse_dates=['ДатаПродажи'])

data['ДатаПродажи'] = pd.to_datetime(data['ДатаПродажи'], format='%d.%m.%Y %H:%M')
data.head

# Сортировка данных по дате
data_sorted = data.sort_values('ДатаПродажи')

data = data_sorted
# Установка диапазона дат
start_date = '2023-04-01'
end_date = '2023-04-10 23:59'

# Фильтрация данных по дате и значениям общей суммы и себестоимости
filtered_data = data[(data['ДатаПродажи'] >= start_date) & (data['ДатаПродажи'] <= end_date) & (data['ОбщаяСумма'] > 0) & (data['Себестоимость'] > 0)].copy()


# # Распределение на группы золото/серебро
# Использование .loc[] для добавления нового столбца 'Металл'
filtered_data.loc[:, 'ТоварнаяГруппа'] = filtered_data['ТоварнаяГруппа'].apply(lambda x: 'Серебро' if x.startswith('СИ') else 'Золото')

filtered_data.head()



# Расчет наценки для каждой записи
filtered_data['Абсолютная наценка'] = filtered_data['ОбщаяСумма'] - filtered_data['Себестоимость']
average_absolute_markup = filtered_data['Абсолютная наценка'].mean()

# Расчет средней наценки для золота и серебра
filtered_data['Процентная наценка'] = ((filtered_data['ОбщаяСумма'] - filtered_data['Себестоимость']) / filtered_data['Себестоимость']) * 100
average_percentage_markup = filtered_data['Процентная наценка'].mean()

print(average_absolute_markup)
print(average_percentage_markup)  
